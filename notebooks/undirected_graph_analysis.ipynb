{
 "cells": [
  {
   "cell_type": "code",
   "execution_count": null,
   "metadata": {
    "collapsed": true,
    "pycharm": {
     "is_executing": true
    }
   },
   "outputs": [],
   "source": [
    "\"\"\"\n",
    "Set up imports and constants\n",
    "\"\"\"\n",
    "\n",
    "from pathlib import Path\n",
    "\n",
    "from polyphasia.loader import load_to_pandas, clean_data_frame\n",
    "from polyphasia.constants import RELATIVE_PATH_TO_SOURCE\n",
    "from polyphasia.graph import UndirectedGraph\n",
    "\n",
    "# set up some paths for ins and outs\n",
    "base_directory = Path.cwd().parent.absolute()\n",
    "source_data_path = base_directory / RELATIVE_PATH_TO_SOURCE"
   ]
  },
  {
   "cell_type": "code",
   "execution_count": 2,
   "outputs": [
    {
     "name": "stderr",
     "output_type": "stream",
     "text": [
      "/Users/jmcummings/Source/polyphasia/.venv/lib/python3.9/site-packages/pandas/core/frame.py:3069: SettingWithCopyWarning: \n",
      "A value is trying to be set on a copy of a slice from a DataFrame.\n",
      "Try using .loc[row_indexer,col_indexer] = value instead\n",
      "\n",
      "See the caveats in the documentation: https://pandas.pydata.org/pandas-docs/stable/user_guide/indexing.html#returning-a-view-versus-a-copy\n",
      "  self[k1] = value[k2]\n"
     ]
    }
   ],
   "source": [
    "\"\"\"\n",
    "Load and clean data\n",
    "\"\"\"\n",
    "\n",
    "data_frame = load_to_pandas(source_data_path)\n",
    "data_frame = clean_data_frame(data_frame)"
   ],
   "metadata": {
    "collapsed": false,
    "pycharm": {
     "name": "#%%\n"
    }
   }
  },
  {
   "cell_type": "code",
   "execution_count": 3,
   "outputs": [
    {
     "name": "stdout",
     "output_type": "stream",
     "text": [
      "Name: \n",
      "Type: Graph\n",
      "Number of nodes: 2743118\n",
      "Number of edges: 2690896\n",
      "Average degree:   1.9619\n"
     ]
    }
   ],
   "source": [
    "\"\"\"\n",
    "Construct networkx graph\n",
    "\"\"\"\n",
    "\n",
    "# start with directed so we can preserve directionality data, retaining the option to convert to undirected later to use networkx undirected algorithms\n",
    "graph = UndirectedGraph(data_frame)\n",
    "print(graph.info)\n"
   ],
   "metadata": {
    "collapsed": false,
    "pycharm": {
     "name": "#%%\n"
    }
   }
  },
  {
   "cell_type": "code",
   "execution_count": 4,
   "outputs": [
    {
     "name": "stdout",
     "output_type": "stream",
     "text": [
      "209375\n"
     ]
    }
   ],
   "source": [
    "\"\"\"\n",
    "Undirected graph analysis\n",
    "\n",
    "Check for connected components\n",
    "\"\"\"\n",
    "# check for connected components. may be a way to prune subgraphs that do not relate to English etymology\n",
    "conn_components = graph.connected_components\n",
    "connected_component_count = len(conn_components)\n",
    "print(connected_component_count)\n"
   ],
   "metadata": {
    "collapsed": false,
    "pycharm": {
     "name": "#%%\n"
    }
   }
  },
  {
   "cell_type": "code",
   "execution_count": null,
   "outputs": [],
   "source": [
    "\"\"\"\n",
    "Filter to English nodes and their BFS trees\n",
    "\n",
    "\n",
    "Interestingly, these results do not seem to match what was produced by the DAG root approach.\n",
    "\n",
    "\n",
    "Type: DiGraph\n",
    "Number of nodes: 912653\n",
    "Number of edges: 715717\n",
    "Average in degree:   0.7842\n",
    "Average out degree:   0.7842\n",
    "\n",
    "Type: DiGraph\n",
    "Number of nodes: 433240\n",
    "Number of edges: 425233\n",
    "Average in degree:   0.9815\n",
    "Average out degree:   0.9815\n",
    "\n",
    "\n",
    "\n",
    "\"\"\"\n",
    "bfs_english_nodes = graph.language_nodes(\"eng\")\n",
    "bfs_english_graph = graph.language_subgraph(\"eng\", bfs_english_nodes)\n",
    "print(UndirectedGraph.subgraph_info(bfs_english_graph))\n"
   ],
   "metadata": {
    "collapsed": false,
    "pycharm": {
     "name": "#%%\n",
     "is_executing": true
    }
   }
  },
  {
   "cell_type": "code",
   "execution_count": null,
   "outputs": [],
   "source": [
    "\"\"\"\n",
    "Check most connected nodes\n",
    "\n",
    "So... this does not match the DAG results, but in an intriguing way. These are exclusively English words, whereas the DAG roots included a mix of other languages as well.\n",
    "\n",
    "Some nodes are the same (e.g., \"eng: non-\"). But the degrees are slightly different. 5746 here versus 5748 above for \"non-\", for example.\n",
    "\n",
    "I wonder why this approach is less inclusive than the DAG approach...\n",
    "\n",
    "\"\"\"\n",
    "nodes_by_degree = UndirectedGraph.nodes_by_degree(bfs_english_graph)\n",
    "print(nodes_by_degree[0:99])"
   ],
   "metadata": {
    "collapsed": false,
    "pycharm": {
     "name": "#%%\n",
     "is_executing": true
    }
   }
  }
 ],
 "metadata": {
  "kernelspec": {
   "display_name": "Python 3",
   "language": "python",
   "name": "python3"
  },
  "language_info": {
   "codemirror_mode": {
    "name": "ipython",
    "version": 2
   },
   "file_extension": ".py",
   "mimetype": "text/x-python",
   "name": "python",
   "nbconvert_exporter": "python",
   "pygments_lexer": "ipython2",
   "version": "2.7.6"
  }
 },
 "nbformat": 4,
 "nbformat_minor": 0
}