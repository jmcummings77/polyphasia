{
 "cells": [
  {
   "cell_type": "code",
   "execution_count": 10,
   "metadata": {
    "collapsed": true
   },
   "outputs": [],
   "source": [
    "\"\"\"\n",
    "Set up imports and constants\n",
    "\"\"\"\n",
    "\n",
    "from pathlib import Path\n",
    "\n",
    "from polyphasia.loader import load_to_pandas, clean_data_frame\n",
    "from polyphasia.constants import RELATIVE_PATH_TO_SOURCE\n",
    "from polyphasia.graph import DirectedGraph\n",
    "\n",
    "# set up some paths for ins and outs\n",
    "base_directory = Path.cwd().parent.absolute()\n",
    "source_data_path = base_directory / RELATIVE_PATH_TO_SOURCE"
   ]
  },
  {
   "cell_type": "code",
   "execution_count": 2,
   "outputs": [
    {
     "name": "stderr",
     "output_type": "stream",
     "text": [
      "/Users/jmcummings/Source/polyphasia/.venv/lib/python3.9/site-packages/pandas/core/frame.py:3069: SettingWithCopyWarning: \n",
      "A value is trying to be set on a copy of a slice from a DataFrame.\n",
      "Try using .loc[row_indexer,col_indexer] = value instead\n",
      "\n",
      "See the caveats in the documentation: https://pandas.pydata.org/pandas-docs/stable/user_guide/indexing.html#returning-a-view-versus-a-copy\n",
      "  self[k1] = value[k2]\n"
     ]
    }
   ],
   "source": [
    "\"\"\"\n",
    "Load and clean data\n",
    "\"\"\"\n",
    "\n",
    "data_frame = load_to_pandas(source_data_path)\n",
    "data_frame = clean_data_frame(data_frame)"
   ],
   "metadata": {
    "collapsed": false,
    "pycharm": {
     "name": "#%%\n"
    }
   }
  },
  {
   "cell_type": "code",
   "execution_count": 3,
   "outputs": [
    {
     "name": "stdout",
     "output_type": "stream",
     "text": [
      "Name: \n",
      "Type: DiGraph\n",
      "Number of nodes: 2743118\n",
      "Number of edges: 2692096\n",
      "Average in degree:   0.9814\n",
      "Average out degree:   0.9814\n"
     ]
    }
   ],
   "source": [
    "\"\"\"\n",
    "Construct networkx graph\n",
    "\"\"\"\n",
    "\n",
    "# start with directed so we can preserve directionality data, retaining the option to convert to undirected later to use networkx undirected algorithms\n",
    "graph = DirectedGraph(data_frame)\n",
    "print(graph.info)"
   ],
   "metadata": {
    "collapsed": false,
    "pycharm": {
     "name": "#%%\n"
    }
   }
  },
  {
   "cell_type": "markdown",
   "source": [
    "# What next?\n",
    "\n",
    "Now that we've loaded the data into a graph, it's time to do some actual analysis. But to do so, we need to define the problem more clearly. Otherwise, there is\n",
    "an intractable amount of data for many graph algorithms. Pruning to relevant subgraphs would be desirable as an initial post-processing step.\n",
    "\n",
    "I am primarily interested in English language entries. However, ~~many~~ all of the English words are derived from non-English words. It would be good to prune\n",
    "entries that are not etymological roots of English words.\n",
    "\n",
    "My initial instinct is to trim any descendant nodes of English words that are in other languages. Then, we can run BFS from each English node to gather its\n",
    "ancestors, knowing the descendant nodes have already been trimmed. This could accidentally exclude relevant data if there are derivation paths that jump from\n",
    "English to another language and then back, but that's an interesting question in and of itself and might be worth investigating as preliminary matter before\n",
    "pursuing this approach.\n",
    "\n",
    "However, I suspect the BFS approach may be extremely inefficient and that it will be necessary to reduce the size of the search space to something more\n",
    "tractable.\n",
    "\n",
    "So. What exactly are we looking for?\n",
    "\n",
    "- Nodes with the \"eng:\" prefix\n",
    "- Nodes that are direct and indirect ancestors of the English nodes\n",
    "\n"
   ],
   "metadata": {
    "collapsed": false
   }
  },
  {
   "cell_type": "code",
   "execution_count": 4,
   "outputs": [
    {
     "name": "stdout",
     "output_type": "stream",
     "text": [
      "False\n"
     ]
    }
   ],
   "source": [
    "\"\"\"\n",
    "DAG analysis\n",
    "\n",
    "Check if graph is directed acyclic\n",
    "\"\"\"\n",
    "\n",
    "is_dag = graph.is_dag\n",
    "print(is_dag)\n"
   ],
   "metadata": {
    "collapsed": false,
    "pycharm": {
     "name": "#%%\n"
    }
   }
  },
  {
   "cell_type": "code",
   "execution_count": 5,
   "outputs": [
    {
     "name": "stdout",
     "output_type": "stream",
     "text": [
      "3305\n"
     ]
    }
   ],
   "source": [
    "\"\"\"\n",
    "DAG analysis\n",
    "\n",
    "I expected that the graph would be acyclic, because logically it doesn't make sense for a word to be an ancestor of a word that is also the first word's ancestor.\n",
    "However, is_directed_acyclic_graph returned false, so I am going to check for cycles and see if there's something in the source data that can be cleaned up to\n",
    "enable DAG analysis\n",
    "\"\"\"\n",
    "cycles = graph.get_cycles()\n",
    "cycle_count = len(cycles)\n",
    "print(cycle_count)\n"
   ],
   "metadata": {
    "collapsed": false,
    "pycharm": {
     "name": "#%%\n"
    }
   }
  },
  {
   "cell_type": "code",
   "execution_count": 6,
   "outputs": [
    {
     "name": "stdout",
     "output_type": "stream",
     "text": [
      "True\n"
     ]
    }
   ],
   "source": [
    "\"\"\"\n",
    "DAG analysis\n",
    "\n",
    "So... looks like all the cycles are self-connected single nodes. I'm guessing if I prune those it will be acyclic.\n",
    "\n",
    "Tried this, and still there were some loops left. they were in somewhat obscure languages so I decided to just drop them all.\n",
    "graph.remove_edges_from(nx.selfloop_edges(graph))\n",
    "\n",
    "\"\"\"\n",
    "graph.remove_cycles()\n",
    "is_dag = graph.is_dag\n",
    "print(is_dag)\n"
   ],
   "metadata": {
    "collapsed": false,
    "pycharm": {
     "name": "#%%\n"
    }
   }
  },
  {
   "cell_type": "code",
   "execution_count": 7,
   "outputs": [
    {
     "name": "stdout",
     "output_type": "stream",
     "text": [
      "['peo: 𐏋', 'pal: 𐭱𐭠𐭤', 'fas: شاه', 'fas: چک', 'ara: صکّ', 'lat: scacus', 'fro: eschec', 'eng: check', 'eng: checked', 'eng: unchecked', 'eng: unch', 'eng: unches']\n"
     ]
    }
   ],
   "source": [
    "\"\"\"\n",
    "DAG analysis\n",
    "\n",
    "Ok we have a DAG, time to see what kinds of fun patterns we can find...\n",
    "\n",
    "\"\"\"\n",
    "longest_path = graph.get_longest_path()\n",
    "print(longest_path)\n"
   ],
   "metadata": {
    "collapsed": false,
    "pycharm": {
     "name": "#%%\n"
    }
   }
  },
  {
   "cell_type": "code",
   "execution_count": 8,
   "outputs": [
    {
     "name": "stdout",
     "output_type": "stream",
     "text": [
      "342736\n",
      "96374\n"
     ]
    },
    {
     "data": {
      "text/plain": "'Name: \\nType: DiGraph\\nNumber of nodes: 912653\\nNumber of edges: 715717\\nAverage in degree:   0.7842\\nAverage out degree:   0.7842'"
     },
     "execution_count": 8,
     "metadata": {},
     "output_type": "execute_result"
    }
   ],
   "source": [
    "\"\"\"\n",
    "DAG analysis\n",
    "\n",
    "Create English-related subgraph\n",
    "\n",
    "Let's see if we can exploit the DAG properties to filter to chains with English words only\n",
    "\"\"\"\n",
    "roots = graph.roots()\n",
    "print(len(roots))\n",
    "english_nodes = graph.language_nodes(\"eng\")\n",
    "print(len(english_nodes))\n",
    "english_graph = graph.language_subgraph(\"eng\", english_nodes)\n",
    "DirectedGraph.subgraph_info(english_graph)\n"
   ],
   "metadata": {
    "collapsed": false,
    "pycharm": {
     "name": "#%%\n"
    }
   }
  },
  {
   "cell_type": "code",
   "execution_count": 9,
   "outputs": [
    {
     "name": "stdout",
     "output_type": "stream",
     "text": [
      "[('eng: non-', 5748), ('eng: -ly', 5439), ('eng: un-', 4206), ('eng: -like', 2438), ('eng: -er', 2346), ('eng: -less', 1974), ('ita: -mente', 1666), ('eng: -able', 1428), ('eng: time', 1322), ('eng: anti-', 1293), ('eng: -y', 1227), ('eng: poly-', 1004), ('ita: -abile', 880), ('eng: -ic', 812), ('eng: -ed', 754), ('eng: multi-', 715), ('eng: over-', 710), ('spa: -mente', 681), ('fra: -ure', 665), ('eng: -ian', 625), ('eng: -ish', 588), ('eng: -ally', 520), ('eng: -ize', 500), ('eng: dog', 496), ('eng: disease', 493), ('deu: Stein', 485), ('eng: inter-', 461), ('fra: -er', 451), ('eng: hyper-', 445), ('eng: bird', 444), ('fra: -ique', 442), ('ita: -oso', 441), ('eng: be-', 428), ('eng: in-', 426), ('fra: -age', 424), ('ita: -tura', 419), ('eng: micro-', 401), ('eng: de-', 397), ('eng: post-', 395), ('eng: -an', 392), ('eng: -ing', 383), ('eng: -ity', 383), ('eng: -ship', 380), ('gle: -acht', 376), ('ita: -mento', 356), ('eng: Chinese', 346), ('eng: semi-', 327), ('eng: back', 326), ('ita: -ere', 326), ('eng: bread', 315), ('eng: a-', 305), ('eng: -istic', 298), ('eng: potato', 297), ('eng: -ment', 296), ('eng: seal', 284), ('eng: bi-', 281), ('glv: co-', 278), ('fra: -ité', 276), ('eng: green', 270), ('eng: leaf', 263), ('eng: snow', 256), ('eng: bio-', 254), ('ita: -ista', 251), ('eng: auto-', 250), ('epo: dek', 247), ('fra: in-', 247), ('eng: work', 246), ('eng: book', 242), ('eng: out-', 240), ('eng: sulfo-', 237), ('eng: -ferous', 233), ('eng: man', 231), ('eng: vine', 230), ('eng: head', 229), ('deu: -lich', 225), ('eng: pigeon', 224), ('eng: nano-', 222), ('fra: dé-', 219), ('eng: wax', 218), ('eng: neuro-', 217), ('eng: radio-', 217), ('eng: apple', 216), ('eng: wort', 212), ('lat: colligo', 212), ('ita: anti-', 212), ('eng: -wise', 208), ('eng: blue', 207), ('eng: -phyte', 205), ('eng: quasi-', 203), ('lat: praedico', 203), ('eng: ball', 201), ('eng: fish', 198), ('lat: colo', 197), ('fra: -iste', 195), ('lat: deligo', 195), ('eng: red', 194), ('lat: consterno', 194), ('lat: fundo', 193), ('lat: adgero', 192)]\n"
     ]
    }
   ],
   "source": [
    "\"\"\"\n",
    "English graph analysis\n",
    "\n",
    "Inspect highest degree nodes\n",
    "\"\"\"\n",
    "nodes_by_degree = DirectedGraph.nodes_by_degree(english_graph)\n",
    "print(nodes_by_degree[0:99])\n"
   ],
   "metadata": {
    "collapsed": false,
    "pycharm": {
     "name": "#%%\n"
    }
   }
  }
 ],
 "metadata": {
  "kernelspec": {
   "display_name": "Python 3",
   "language": "python",
   "name": "python3"
  },
  "language_info": {
   "codemirror_mode": {
    "name": "ipython",
    "version": 2
   },
   "file_extension": ".py",
   "mimetype": "text/x-python",
   "name": "python",
   "nbconvert_exporter": "python",
   "pygments_lexer": "ipython2",
   "version": "2.7.6"
  }
 },
 "nbformat": 4,
 "nbformat_minor": 0
}