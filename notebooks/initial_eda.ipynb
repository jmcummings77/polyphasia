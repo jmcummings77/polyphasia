{
 "cells": [
  {
   "cell_type": "code",
   "execution_count": 1,
   "metadata": {
    "collapsed": true
   },
   "outputs": [
    {
     "name": "stdout",
     "output_type": "stream",
     "text": [
      "['rel:etymological_origin_of' 'rel:has_derived_form' 'rel:is_derived_from'\n",
      " 'rel:etymology' 'rel:etymologically_related' 'rel:variant:orthography'\n",
      " 'rel:derived' 'rel:etymologically']\n"
     ]
    }
   ],
   "source": [
    "\n",
    "rel_types = [\n",
    "    'rel:etymological_origin_of',\n",
    "    'rel:is_derived_from',\n",
    "    'rel:etymologically',\n",
    "    'rel:has_derived_form',\n",
    "    'rel:derived',\n",
    "    'rel:variant:orthography',\n",
    "    'rel:etymologically_related',\n",
    "    'rel:etymology'\n",
    "    ]\n",
    "\n",
    "\n",
    "import matplotlib.pyplot as plt\n",
    "import networkx as nx\n",
    "\n",
    "from pathlib import Path\n",
    "\n",
    "import pandas as pd\n",
    "\n",
    "source_data_path = Path.cwd().parent.absolute() / \"data\" / \"raw\" / \"etymologies.tsv\"\n",
    "\n",
    "# read data in chunks because it's very large... on second thought this might not be needed...\n",
    "chunksize = 10 ** 6\n",
    "source_data = pd.read_csv(source_data_path, sep='\\t', header=None)\n",
    "unique_rels = source_data[1].unique()\n",
    "\n",
    "print(unique_rels)\n"
   ]
  },
  {
   "cell_type": "code",
   "execution_count": 2,
   "outputs": [
    {
     "name": "stdout",
     "output_type": "stream",
     "text": [
      "2886098\n"
     ]
    }
   ],
   "source": [
    "unique_words = source_data[0].unique()\n",
    "\n",
    "print(len(unique_words))\n"
   ],
   "metadata": {
    "collapsed": false,
    "pycharm": {
     "name": "#%%\n"
    }
   }
  },
  {
   "cell_type": "code",
   "execution_count": 3,
   "outputs": [
    {
     "name": "stdout",
     "output_type": "stream",
     "text": [
      "2880769\n"
     ]
    }
   ],
   "source": [
    "unique_target_words = source_data[2].unique()\n",
    "\n",
    "print(len(unique_target_words))\n"
   ],
   "metadata": {
    "collapsed": false,
    "pycharm": {
     "name": "#%%\n"
    }
   }
  },
  {
   "cell_type": "code",
   "execution_count": 4,
   "outputs": [
    {
     "name": "stdout",
     "output_type": "stream",
     "text": [
      "['aaq: Pawanobskewi' 'aaq: senabe' 'abe: waniigan' 'abs: beta' 'adt: yuru'\n",
      " 'afr: -heid' 'afr: -ig' 'afr: -ing' 'afr: -lik' 'afr: -tjie'\n",
      " 'afr: Afrikaner' 'afr: April' 'afr: Aprilmaande' 'afr: Augustus'\n",
      " 'afr: Augustusmaande' 'afr: Ciskei' 'afr: Decembermaande' 'afr: Desember'\n",
      " 'afr: Dinsdag' 'afr: Egipte' 'afr: Egiptenaar' 'afr: Februarie'\n",
      " 'afr: Februariemaande' 'afr: Griekwa' 'afr: Januarie'\n",
      " 'afr: Januariemaande' 'afr: Japan' 'afr: Julie' 'afr: Juliemaande'\n",
      " 'afr: Junie' 'afr: Juniemaande' 'afr: Maandag' 'afr: Maart'\n",
      " 'afr: Maartmaande' 'afr: Maleis' 'afr: Mei' 'afr: Meimaande'\n",
      " 'afr: November' 'afr: Novembermaande' 'afr: Oktober' 'afr: Oktobermaande'\n",
      " 'afr: Pieter' 'afr: September' 'afr: Septembermaande' 'afr: Woensdag'\n",
      " 'afr: aalmoes' 'afr: aalmoesenier' 'afr: aalmoeseniershuis' 'afr: aalwee'\n",
      " 'afr: aalwees' 'afr: aalwyn' 'afr: aalwyne' 'afr: aambeeld'\n",
      " 'afr: aambeelde' 'afr: aambei' 'afr: aanbieder' 'afr: aanbieding'\n",
      " 'afr: aanbod' 'afr: aanbodkant' 'afr: aand' 'afr: aande' 'afr: aandete'\n",
      " 'afr: aandetes' 'afr: aandjie' 'afr: aandjies' 'afr: aangaan'\n",
      " 'afr: aangesteek' 'afr: aansteek' 'afr: aanval' 'afr: aanvallend'\n",
      " 'afr: aanvaller' 'afr: aap' 'afr: aarde' 'afr: aardvark'\n",
      " 'afr: aardvarken' 'afr: aardwolf' 'afr: aardwolwe' 'afr: aartappel'\n",
      " 'afr: aartsengel' 'afr: aasvoël' 'afr: af-' 'afr: afgaan' 'afr: aftree'\n",
      " 'afr: afvaar' 'afr: afvaart' 'afr: ag' 'afr: agt' 'afr: agtertuin'\n",
      " 'afr: agteruitgaan' 'afr: agttien' 'afr: aktinium' 'afr: amptelijk'\n",
      " 'afr: amptelik' 'afr: anatomie' 'afr: apartheid' 'afr: appel'\n",
      " 'afr: appels' 'afr: appèl' 'afr: apteek' 'afr: arend']\n",
      "['eng: Penobscot' 'eng: sannup' 'eng: wangan' 'eng: wannigan' 'zsm: beta'\n",
      " 'eng: euro' 'afr: moontlikheid' 'afr: denkbeeldig' 'afr: tydig'\n",
      " 'afr: verbuiging' 'afr: persoonlik' 'afr: tydelik' 'afr: wetenskaplik'\n",
      " 'afr: wetlik' 'afr: dogtertjie' 'afr: seuntjie' 'afr: uitjie'\n",
      " 'por: africâner' 'afr: Aprilmaande' 'afr: April' 'afr: Augustusmaande'\n",
      " 'afr: Augustus' 'eng: Ciskei' 'afr: Desember' 'afr: Decembermaande'\n",
      " 'afr: dinsdag' 'afr: Egiptenaar' 'afr: Egipte' 'afr: Februariemaande'\n",
      " 'afr: Februarie' 'eng: Griqua' 'afr: Januariemaande' 'afr: Januarie'\n",
      " 'nld: Japan' 'afr: Juliemaande' 'afr: Julie' 'afr: Juniemaande'\n",
      " 'afr: Junie' 'nld: maandag' 'afr: Maartmaande' 'afr: Maart' 'nld: Maleis'\n",
      " 'afr: Meimaande' 'afr: Mei' 'afr: Novembermaande' 'afr: November'\n",
      " 'afr: Oktobermaande' 'afr: Oktober' 'nld: Pieter' 'afr: Septembermaande'\n",
      " 'afr: September' 'afr: woensdag' 'nld: aalmoes' 'afr: aalmoesenier'\n",
      " 'nld: aalmoezenier' 'afr: aalmoeseniershuis' 'afr: aalmoes' 'nld: aloë'\n",
      " 'afr: aalwees' 'afr: aalwee' 'afr: aalwyne' 'afr: aalwyn' 'nld: aambeeld'\n",
      " 'afr: aambeelde' 'afr: aambeeld' 'nld: aambei' 'nld: aanbieder'\n",
      " 'nld: aanbieding' 'nld: aanbod' 'afr: aanbodkant' 'afr: aanbod'\n",
      " 'nld: avond' 'afr: aande' 'afr: aandete' 'afr: aandjie' 'afr: aandjies'\n",
      " 'afr: aand' 'nld: avondeten' 'afr: aandetes' 'afr: gaan' 'afr: aansteek'\n",
      " 'afr: aangesteek' 'afr: aanvaller' 'afr: aanval' 'afr: aanvallend'\n",
      " 'nld: aanvaller' 'nld: aap' 'eng: aardvark' 'eng: aardwolf' 'nld: aarde'\n",
      " 'afr: aardwolf' 'afr: vark' 'afr: aardvark' 'afr: aardwolwe'\n",
      " 'nld: aardappel' 'nld: aartsengel' 'nld: aasvogel' 'afr: afvaar'\n",
      " 'nld: aftreden' 'afr: af-']\n"
     ]
    }
   ],
   "source": [
    "print(unique_words[0:100])\n",
    "print(unique_target_words[0:100])\n"
   ],
   "metadata": {
    "collapsed": false,
    "pycharm": {
     "name": "#%%\n"
    }
   }
  },
  {
   "cell_type": "code",
   "execution_count": 5,
   "outputs": [
    {
     "ename": "KeyboardInterrupt",
     "evalue": "",
     "output_type": "error",
     "traceback": [
      "\u001B[0;31m---------------------------------------------------------------------------\u001B[0m",
      "\u001B[0;31mKeyboardInterrupt\u001B[0m                         Traceback (most recent call last)",
      "\u001B[0;32m<ipython-input-5-3b07aa5538fd>\u001B[0m in \u001B[0;36m<module>\u001B[0;34m\u001B[0m\n\u001B[1;32m     10\u001B[0m \u001B[0mplt\u001B[0m\u001B[0;34m.\u001B[0m\u001B[0msubplot\u001B[0m\u001B[0;34m(\u001B[0m\u001B[0;36m121\u001B[0m\u001B[0;34m)\u001B[0m\u001B[0;34m\u001B[0m\u001B[0;34m\u001B[0m\u001B[0m\n\u001B[1;32m     11\u001B[0m \u001B[0;34m\u001B[0m\u001B[0m\n\u001B[0;32m---> 12\u001B[0;31m \u001B[0mnx\u001B[0m\u001B[0;34m.\u001B[0m\u001B[0mdraw\u001B[0m\u001B[0;34m(\u001B[0m\u001B[0mgraph\u001B[0m\u001B[0;34m,\u001B[0m \u001B[0mwith_labels\u001B[0m\u001B[0;34m=\u001B[0m\u001B[0;32mFalse\u001B[0m\u001B[0;34m)\u001B[0m\u001B[0;34m\u001B[0m\u001B[0;34m\u001B[0m\u001B[0m\n\u001B[0m\u001B[1;32m     13\u001B[0m \u001B[0mplt\u001B[0m\u001B[0;34m.\u001B[0m\u001B[0msubplot\u001B[0m\u001B[0;34m(\u001B[0m\u001B[0;36m122\u001B[0m\u001B[0;34m)\u001B[0m\u001B[0;34m\u001B[0m\u001B[0;34m\u001B[0m\u001B[0m\n\u001B[1;32m     14\u001B[0m \u001B[0;34m\u001B[0m\u001B[0m\n",
      "\u001B[0;32m~/Source/polyphasia/.venv/lib/python3.9/site-packages/networkx/drawing/nx_pylab.py\u001B[0m in \u001B[0;36mdraw\u001B[0;34m(G, pos, ax, **kwds)\u001B[0m\n\u001B[1;32m    121\u001B[0m         \u001B[0mkwds\u001B[0m\u001B[0;34m[\u001B[0m\u001B[0;34m\"with_labels\"\u001B[0m\u001B[0;34m]\u001B[0m \u001B[0;34m=\u001B[0m \u001B[0;34m\"labels\"\u001B[0m \u001B[0;32min\u001B[0m \u001B[0mkwds\u001B[0m\u001B[0;34m\u001B[0m\u001B[0;34m\u001B[0m\u001B[0m\n\u001B[1;32m    122\u001B[0m \u001B[0;34m\u001B[0m\u001B[0m\n\u001B[0;32m--> 123\u001B[0;31m     \u001B[0mdraw_networkx\u001B[0m\u001B[0;34m(\u001B[0m\u001B[0mG\u001B[0m\u001B[0;34m,\u001B[0m \u001B[0mpos\u001B[0m\u001B[0;34m=\u001B[0m\u001B[0mpos\u001B[0m\u001B[0;34m,\u001B[0m \u001B[0max\u001B[0m\u001B[0;34m=\u001B[0m\u001B[0max\u001B[0m\u001B[0;34m,\u001B[0m \u001B[0;34m**\u001B[0m\u001B[0mkwds\u001B[0m\u001B[0;34m)\u001B[0m\u001B[0;34m\u001B[0m\u001B[0;34m\u001B[0m\u001B[0m\n\u001B[0m\u001B[1;32m    124\u001B[0m     \u001B[0max\u001B[0m\u001B[0;34m.\u001B[0m\u001B[0mset_axis_off\u001B[0m\u001B[0;34m(\u001B[0m\u001B[0;34m)\u001B[0m\u001B[0;34m\u001B[0m\u001B[0;34m\u001B[0m\u001B[0m\n\u001B[1;32m    125\u001B[0m     \u001B[0mplt\u001B[0m\u001B[0;34m.\u001B[0m\u001B[0mdraw_if_interactive\u001B[0m\u001B[0;34m(\u001B[0m\u001B[0;34m)\u001B[0m\u001B[0;34m\u001B[0m\u001B[0;34m\u001B[0m\u001B[0m\n",
      "\u001B[0;32m~/Source/polyphasia/.venv/lib/python3.9/site-packages/networkx/drawing/nx_pylab.py\u001B[0m in \u001B[0;36mdraw_networkx\u001B[0;34m(G, pos, arrows, with_labels, **kwds)\u001B[0m\n\u001B[1;32m    331\u001B[0m \u001B[0;34m\u001B[0m\u001B[0m\n\u001B[1;32m    332\u001B[0m     \u001B[0;32mif\u001B[0m \u001B[0mpos\u001B[0m \u001B[0;32mis\u001B[0m \u001B[0;32mNone\u001B[0m\u001B[0;34m:\u001B[0m\u001B[0;34m\u001B[0m\u001B[0;34m\u001B[0m\u001B[0m\n\u001B[0;32m--> 333\u001B[0;31m         \u001B[0mpos\u001B[0m \u001B[0;34m=\u001B[0m \u001B[0mnx\u001B[0m\u001B[0;34m.\u001B[0m\u001B[0mdrawing\u001B[0m\u001B[0;34m.\u001B[0m\u001B[0mspring_layout\u001B[0m\u001B[0;34m(\u001B[0m\u001B[0mG\u001B[0m\u001B[0;34m)\u001B[0m  \u001B[0;31m# default to spring layout\u001B[0m\u001B[0;34m\u001B[0m\u001B[0;34m\u001B[0m\u001B[0m\n\u001B[0m\u001B[1;32m    334\u001B[0m \u001B[0;34m\u001B[0m\u001B[0m\n\u001B[1;32m    335\u001B[0m     \u001B[0mdraw_networkx_nodes\u001B[0m\u001B[0;34m(\u001B[0m\u001B[0mG\u001B[0m\u001B[0;34m,\u001B[0m \u001B[0mpos\u001B[0m\u001B[0;34m,\u001B[0m \u001B[0;34m**\u001B[0m\u001B[0mnode_kwds\u001B[0m\u001B[0;34m)\u001B[0m\u001B[0;34m\u001B[0m\u001B[0;34m\u001B[0m\u001B[0m\n",
      "\u001B[0;32m<decorator-gen-852>\u001B[0m in \u001B[0;36mfruchterman_reingold_layout\u001B[0;34m(G, k, pos, fixed, iterations, threshold, weight, scale, center, dim, seed)\u001B[0m\n",
      "\u001B[0;32m~/Source/polyphasia/.venv/lib/python3.9/site-packages/networkx/utils/decorators.py\u001B[0m in \u001B[0;36m_random_state\u001B[0;34m(func, *args, **kwargs)\u001B[0m\n\u001B[1;32m    406\u001B[0m         \u001B[0mnew_args\u001B[0m \u001B[0;34m=\u001B[0m \u001B[0mlist\u001B[0m\u001B[0;34m(\u001B[0m\u001B[0margs\u001B[0m\u001B[0;34m)\u001B[0m\u001B[0;34m\u001B[0m\u001B[0;34m\u001B[0m\u001B[0m\n\u001B[1;32m    407\u001B[0m         \u001B[0mnew_args\u001B[0m\u001B[0;34m[\u001B[0m\u001B[0mrandom_state_index\u001B[0m\u001B[0;34m]\u001B[0m \u001B[0;34m=\u001B[0m \u001B[0mrandom_state\u001B[0m\u001B[0;34m\u001B[0m\u001B[0;34m\u001B[0m\u001B[0m\n\u001B[0;32m--> 408\u001B[0;31m         \u001B[0;32mreturn\u001B[0m \u001B[0mfunc\u001B[0m\u001B[0;34m(\u001B[0m\u001B[0;34m*\u001B[0m\u001B[0mnew_args\u001B[0m\u001B[0;34m,\u001B[0m \u001B[0;34m**\u001B[0m\u001B[0mkwargs\u001B[0m\u001B[0;34m)\u001B[0m\u001B[0;34m\u001B[0m\u001B[0;34m\u001B[0m\u001B[0m\n\u001B[0m\u001B[1;32m    409\u001B[0m \u001B[0;34m\u001B[0m\u001B[0m\n\u001B[1;32m    410\u001B[0m     \u001B[0;32mreturn\u001B[0m \u001B[0m_random_state\u001B[0m\u001B[0;34m\u001B[0m\u001B[0;34m\u001B[0m\u001B[0m\n",
      "\u001B[0;32m~/Source/polyphasia/.venv/lib/python3.9/site-packages/networkx/drawing/layout.py\u001B[0m in \u001B[0;36mfruchterman_reingold_layout\u001B[0;34m(G, k, pos, fixed, iterations, threshold, weight, scale, center, dim, seed)\u001B[0m\n\u001B[1;32m    484\u001B[0m         \u001B[0;32mif\u001B[0m \u001B[0mlen\u001B[0m\u001B[0;34m(\u001B[0m\u001B[0mG\u001B[0m\u001B[0;34m)\u001B[0m \u001B[0;34m<\u001B[0m \u001B[0;36m500\u001B[0m\u001B[0;34m:\u001B[0m  \u001B[0;31m# sparse solver for large graphs\u001B[0m\u001B[0;34m\u001B[0m\u001B[0;34m\u001B[0m\u001B[0m\n\u001B[1;32m    485\u001B[0m             \u001B[0;32mraise\u001B[0m \u001B[0mValueError\u001B[0m\u001B[0;34m\u001B[0m\u001B[0;34m\u001B[0m\u001B[0m\n\u001B[0;32m--> 486\u001B[0;31m         \u001B[0mA\u001B[0m \u001B[0;34m=\u001B[0m \u001B[0mnx\u001B[0m\u001B[0;34m.\u001B[0m\u001B[0mto_scipy_sparse_matrix\u001B[0m\u001B[0;34m(\u001B[0m\u001B[0mG\u001B[0m\u001B[0;34m,\u001B[0m \u001B[0mweight\u001B[0m\u001B[0;34m=\u001B[0m\u001B[0mweight\u001B[0m\u001B[0;34m,\u001B[0m \u001B[0mdtype\u001B[0m\u001B[0;34m=\u001B[0m\u001B[0;34m\"f\"\u001B[0m\u001B[0;34m)\u001B[0m\u001B[0;34m\u001B[0m\u001B[0;34m\u001B[0m\u001B[0m\n\u001B[0m\u001B[1;32m    487\u001B[0m         \u001B[0;32mif\u001B[0m \u001B[0mk\u001B[0m \u001B[0;32mis\u001B[0m \u001B[0;32mNone\u001B[0m \u001B[0;32mand\u001B[0m \u001B[0mfixed\u001B[0m \u001B[0;32mis\u001B[0m \u001B[0;32mnot\u001B[0m \u001B[0;32mNone\u001B[0m\u001B[0;34m:\u001B[0m\u001B[0;34m\u001B[0m\u001B[0;34m\u001B[0m\u001B[0m\n\u001B[1;32m    488\u001B[0m             \u001B[0;31m# We must adjust k by domain size for layouts not near 1x1\u001B[0m\u001B[0;34m\u001B[0m\u001B[0;34m\u001B[0m\u001B[0;34m\u001B[0m\u001B[0m\n",
      "\u001B[0;32m~/Source/polyphasia/.venv/lib/python3.9/site-packages/networkx/convert_matrix.py\u001B[0m in \u001B[0;36mto_scipy_sparse_matrix\u001B[0;34m(G, nodelist, dtype, weight, format)\u001B[0m\n\u001B[1;32m    907\u001B[0m         \u001B[0;31m# selfloop entries get double counted when symmetrizing\u001B[0m\u001B[0;34m\u001B[0m\u001B[0;34m\u001B[0m\u001B[0;34m\u001B[0m\u001B[0m\n\u001B[1;32m    908\u001B[0m         \u001B[0;31m# so we subtract the data on the diagonal\u001B[0m\u001B[0;34m\u001B[0m\u001B[0;34m\u001B[0m\u001B[0;34m\u001B[0m\u001B[0m\n\u001B[0;32m--> 909\u001B[0;31m         \u001B[0mselfloops\u001B[0m \u001B[0;34m=\u001B[0m \u001B[0mlist\u001B[0m\u001B[0;34m(\u001B[0m\u001B[0mnx\u001B[0m\u001B[0;34m.\u001B[0m\u001B[0mselfloop_edges\u001B[0m\u001B[0;34m(\u001B[0m\u001B[0mG\u001B[0m\u001B[0;34m.\u001B[0m\u001B[0msubgraph\u001B[0m\u001B[0;34m(\u001B[0m\u001B[0mnodelist\u001B[0m\u001B[0;34m)\u001B[0m\u001B[0;34m,\u001B[0m \u001B[0mdata\u001B[0m\u001B[0;34m=\u001B[0m\u001B[0;32mTrue\u001B[0m\u001B[0;34m)\u001B[0m\u001B[0;34m)\u001B[0m\u001B[0;34m\u001B[0m\u001B[0;34m\u001B[0m\u001B[0m\n\u001B[0m\u001B[1;32m    910\u001B[0m         \u001B[0;32mif\u001B[0m \u001B[0mselfloops\u001B[0m\u001B[0;34m:\u001B[0m\u001B[0;34m\u001B[0m\u001B[0;34m\u001B[0m\u001B[0m\n\u001B[1;32m    911\u001B[0m             diag_index, diag_data = zip(\n",
      "\u001B[0;32m~/Source/polyphasia/.venv/lib/python3.9/site-packages/networkx/classes/function.py\u001B[0m in \u001B[0;36m<genexpr>\u001B[0;34m(.0)\u001B[0m\n\u001B[1;32m   1170\u001B[0m                 )\n\u001B[1;32m   1171\u001B[0m         \u001B[0;32melse\u001B[0m\u001B[0;34m:\u001B[0m\u001B[0;34m\u001B[0m\u001B[0;34m\u001B[0m\u001B[0m\n\u001B[0;32m-> 1172\u001B[0;31m             \u001B[0;32mreturn\u001B[0m \u001B[0;34m(\u001B[0m\u001B[0;34m(\u001B[0m\u001B[0mn\u001B[0m\u001B[0;34m,\u001B[0m \u001B[0mn\u001B[0m\u001B[0;34m,\u001B[0m \u001B[0mnbrs\u001B[0m\u001B[0;34m[\u001B[0m\u001B[0mn\u001B[0m\u001B[0;34m]\u001B[0m\u001B[0;34m)\u001B[0m \u001B[0;32mfor\u001B[0m \u001B[0mn\u001B[0m\u001B[0;34m,\u001B[0m \u001B[0mnbrs\u001B[0m \u001B[0;32min\u001B[0m \u001B[0mG\u001B[0m\u001B[0;34m.\u001B[0m\u001B[0madj\u001B[0m\u001B[0;34m.\u001B[0m\u001B[0mitems\u001B[0m\u001B[0;34m(\u001B[0m\u001B[0;34m)\u001B[0m \u001B[0;32mif\u001B[0m \u001B[0mn\u001B[0m \u001B[0;32min\u001B[0m \u001B[0mnbrs\u001B[0m\u001B[0;34m)\u001B[0m\u001B[0;34m\u001B[0m\u001B[0;34m\u001B[0m\u001B[0m\n\u001B[0m\u001B[1;32m   1173\u001B[0m     \u001B[0;32melif\u001B[0m \u001B[0mdata\u001B[0m \u001B[0;32mis\u001B[0m \u001B[0;32mnot\u001B[0m \u001B[0;32mFalse\u001B[0m\u001B[0;34m:\u001B[0m\u001B[0;34m\u001B[0m\u001B[0;34m\u001B[0m\u001B[0m\n\u001B[1;32m   1174\u001B[0m         \u001B[0;32mif\u001B[0m \u001B[0mG\u001B[0m\u001B[0;34m.\u001B[0m\u001B[0mis_multigraph\u001B[0m\u001B[0;34m(\u001B[0m\u001B[0;34m)\u001B[0m\u001B[0;34m:\u001B[0m\u001B[0;34m\u001B[0m\u001B[0;34m\u001B[0m\u001B[0m\n",
      "\u001B[0;32m~/.pyenv/versions/3.9.0/lib/python3.9/_collections_abc.py\u001B[0m in \u001B[0;36m__iter__\u001B[0;34m(self)\u001B[0m\n\u001B[1;32m    764\u001B[0m     \u001B[0;32mdef\u001B[0m \u001B[0m__iter__\u001B[0m\u001B[0;34m(\u001B[0m\u001B[0mself\u001B[0m\u001B[0;34m)\u001B[0m\u001B[0;34m:\u001B[0m\u001B[0;34m\u001B[0m\u001B[0;34m\u001B[0m\u001B[0m\n\u001B[1;32m    765\u001B[0m         \u001B[0;32mfor\u001B[0m \u001B[0mkey\u001B[0m \u001B[0;32min\u001B[0m \u001B[0mself\u001B[0m\u001B[0;34m.\u001B[0m\u001B[0m_mapping\u001B[0m\u001B[0;34m:\u001B[0m\u001B[0;34m\u001B[0m\u001B[0;34m\u001B[0m\u001B[0m\n\u001B[0;32m--> 766\u001B[0;31m             \u001B[0;32myield\u001B[0m \u001B[0;34m(\u001B[0m\u001B[0mkey\u001B[0m\u001B[0;34m,\u001B[0m \u001B[0mself\u001B[0m\u001B[0;34m.\u001B[0m\u001B[0m_mapping\u001B[0m\u001B[0;34m[\u001B[0m\u001B[0mkey\u001B[0m\u001B[0;34m]\u001B[0m\u001B[0;34m)\u001B[0m\u001B[0;34m\u001B[0m\u001B[0;34m\u001B[0m\u001B[0m\n\u001B[0m\u001B[1;32m    767\u001B[0m \u001B[0;34m\u001B[0m\u001B[0m\n\u001B[1;32m    768\u001B[0m \u001B[0;34m\u001B[0m\u001B[0m\n",
      "\u001B[0;32m~/Source/polyphasia/.venv/lib/python3.9/site-packages/networkx/classes/coreviews.py\u001B[0m in \u001B[0;36m__getitem__\u001B[0;34m(self, name)\u001B[0m\n\u001B[1;32m     77\u001B[0m \u001B[0;34m\u001B[0m\u001B[0m\n\u001B[1;32m     78\u001B[0m     \u001B[0;32mdef\u001B[0m \u001B[0m__getitem__\u001B[0m\u001B[0;34m(\u001B[0m\u001B[0mself\u001B[0m\u001B[0;34m,\u001B[0m \u001B[0mname\u001B[0m\u001B[0;34m)\u001B[0m\u001B[0;34m:\u001B[0m\u001B[0;34m\u001B[0m\u001B[0;34m\u001B[0m\u001B[0m\n\u001B[0;32m---> 79\u001B[0;31m         \u001B[0;32mreturn\u001B[0m \u001B[0mAtlasView\u001B[0m\u001B[0;34m(\u001B[0m\u001B[0mself\u001B[0m\u001B[0;34m.\u001B[0m\u001B[0m_atlas\u001B[0m\u001B[0;34m[\u001B[0m\u001B[0mname\u001B[0m\u001B[0;34m]\u001B[0m\u001B[0;34m)\u001B[0m\u001B[0;34m\u001B[0m\u001B[0;34m\u001B[0m\u001B[0m\n\u001B[0m\u001B[1;32m     80\u001B[0m \u001B[0;34m\u001B[0m\u001B[0m\n\u001B[1;32m     81\u001B[0m     \u001B[0;32mdef\u001B[0m \u001B[0mcopy\u001B[0m\u001B[0;34m(\u001B[0m\u001B[0mself\u001B[0m\u001B[0;34m)\u001B[0m\u001B[0;34m:\u001B[0m\u001B[0;34m\u001B[0m\u001B[0;34m\u001B[0m\u001B[0m\n",
      "\u001B[0;32m~/Source/polyphasia/.venv/lib/python3.9/site-packages/networkx/classes/coreviews.py\u001B[0m in \u001B[0;36m__init__\u001B[0;34m(self, d)\u001B[0m\n\u001B[1;32m     39\u001B[0m         \u001B[0mself\u001B[0m\u001B[0;34m.\u001B[0m\u001B[0m_atlas\u001B[0m \u001B[0;34m=\u001B[0m \u001B[0mstate\u001B[0m\u001B[0;34m[\u001B[0m\u001B[0;34m\"_atlas\"\u001B[0m\u001B[0;34m]\u001B[0m\u001B[0;34m\u001B[0m\u001B[0;34m\u001B[0m\u001B[0m\n\u001B[1;32m     40\u001B[0m \u001B[0;34m\u001B[0m\u001B[0m\n\u001B[0;32m---> 41\u001B[0;31m     \u001B[0;32mdef\u001B[0m \u001B[0m__init__\u001B[0m\u001B[0;34m(\u001B[0m\u001B[0mself\u001B[0m\u001B[0;34m,\u001B[0m \u001B[0md\u001B[0m\u001B[0;34m)\u001B[0m\u001B[0;34m:\u001B[0m\u001B[0;34m\u001B[0m\u001B[0;34m\u001B[0m\u001B[0m\n\u001B[0m\u001B[1;32m     42\u001B[0m         \u001B[0mself\u001B[0m\u001B[0;34m.\u001B[0m\u001B[0m_atlas\u001B[0m \u001B[0;34m=\u001B[0m \u001B[0md\u001B[0m\u001B[0;34m\u001B[0m\u001B[0;34m\u001B[0m\u001B[0m\n\u001B[1;32m     43\u001B[0m \u001B[0;34m\u001B[0m\u001B[0m\n",
      "\u001B[0;31mKeyboardInterrupt\u001B[0m: "
     ]
    },
    {
     "data": {
      "text/plain": "<Figure size 432x288 with 1 Axes>",
      "image/png": "[encoded data removed]"
     },
     "metadata": {},
     "output_type": "display_data"
    }
   ],
   "source": [
    "\n",
    "all_data = pd.read_csv(source_data_path, sep='\\t', names=[\"source_node\", \"edge_type\", \"target_node\"])\n",
    "\n",
    "graph = nx.from_pandas_edgelist(\n",
    "    all_data,\n",
    "    edge_attr=[\"edge_type\"],\n",
    "    source=\"source_node\",\n",
    "    target=\"target_node\"\n",
    "    )\n",
    "\n",
    "plt.subplot(121)\n",
    "\n",
    "nx.draw(graph, with_labels=False)\n",
    "plt.subplot(122)\n",
    "\n",
    "nx.draw_shell(graph)\n",
    "plt.show()"
   ],
   "metadata": {
    "collapsed": false,
    "pycharm": {
     "name": "#%%\n"
    }
   }
  }
 ],
 "metadata": {
  "language_info": {
   "codemirror_mode": {
    "name": "ipython",
    "version": 2
   },
   "file_extension": ".py",
   "mimetype": "text/x-python",
   "name": "python",
   "nbconvert_exporter": "python",
   "pygments_lexer": "ipython2",
   "version": "2.7.6"
  },
  "kernelspec": {
   "name": "python3",
   "language": "python",
   "display_name": "Python 3"
  }
 },
 "nbformat": 4,
 "nbformat_minor": 0
}