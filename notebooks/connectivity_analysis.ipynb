{
 "cells": [
  {
   "cell_type": "code",
   "execution_count": 1,
   "metadata": {
    "collapsed": true
   },
   "outputs": [],
   "source": [
    "from pathlib import Path\n",
    "\n",
    "import networkx as nx\n",
    "import pandas as pd\n",
    "\n",
    "from networkx.algorithms.traversal import bfs_tree\n",
    "\n",
    "\"\"\"\n",
    "Load data from file\n",
    "\"\"\"\n",
    "\n",
    "# set up some paths for ins and outs\n",
    "base_directory = Path.cwd().parent.absolute()\n",
    "source_data_path = base_directory / \"data\" / \"raw\" / \"etymologies.tsv\"\n",
    "processed_directory = base_directory / \"data\" / \"processed\"\n",
    "output_graph_yaml_file = processed_directory / \"graph_output.yaml\"\n",
    "output_graph_dot_file = processed_directory / \"graph_output.dot\"\n",
    "output_graph_png = processed_directory / \"graph_output.png\"\n",
    "\n",
    "# load from CSV\n",
    "cleaned_df = pd.read_csv(\n",
    "    source_data_path, sep=\"\\t\", names=[\"source_node\", \"edge_type\", \"target_node\"]\n",
    ")\n"
   ]
  },
  {
   "cell_type": "markdown",
   "source": [
    "\n",
    "# Cleaning notes\n",
    "\n",
    "## Relationship types found in source data\n",
    "\n",
    "Relationships are recorded bidirectionally. So a root word will link to its derivatives, and each derivative will link back to the root. To simplify the graph,\n",
    "I will drop edges that point from derivatives to roots, since that information is already encoded in the root-to-leaf edge and networkx can handle bidirectional\n",
    "traversal without requiring multiple edges to link the same pair of nodes.\n",
    "\n",
    "Below are the types of relationships extracted from the data, with comments indicating their directionality.\n",
    "\n",
    "\n",
    "<- A is the source of B\n",
    "\n",
    "-> B is the source of A\n",
    "\n",
    "\n",
    "- \"rel:etymology\"               ->\n",
    "- \"rel:etymological_origin_of\"  <-\n",
    "- \"rel:is_derived_from\"         ->\n",
    "- \"rel:has_derived_form\"        <-\n",
    "- \"rel:etymologically_related\"  <->\n",
    "- \"rel:variant:orthography\"     <->\n",
    "\n",
    "source data also includes a handful of malformed values, which should be dropped or replaced\n",
    "- \"rel:etymologically\" -> \"rel:etymologically_related\"\n",
    "- \"rel:derived\" -> \"rel:is_derived_from\"\n",
    "\n"
   ],
   "metadata": {
    "collapsed": false
   }
  },
  {
   "cell_type": "code",
   "execution_count": 2,
   "outputs": [],
   "source": [
    "\n",
    "\"\"\"\n",
    "Clean data\n",
    "\"\"\"\n",
    "\n",
    "# filter out bidirectional relationships and select one directionality to normalize the graph\n",
    "# I would normally clean to fix a handful of malformed tags as below but we are dropping those edge types anyway\n",
    "# so instead we will stick to the edge types that point from root words to derived words\n",
    "root_first_rel_types = [\"rel:etymological_origin_of\", \"rel:has_derived_form\"]\n",
    "cleaned_df = cleaned_df.loc[(cleaned_df[\"edge_type\"].isin(root_first_rel_types))]\n",
    "cleaned_df[[\"source_language\", \"source_word\"]] = cleaned_df.source_node.str.split(\n",
    "    \": \", expand=True\n",
    ")\n",
    "\n",
    "# there are a handful of nodes that include strange characters or a :Category: tag that introduces a third\n",
    "# column for no reason. This data is uninteresting so we can just ignore it and no include it in the graph when we construct it\n",
    "cleaned_df[[\"target_language\", \"target_word\", \"crud\"]] =  cleaned_df.target_node.str.split(\": \", expand=True)\n"
   ],
   "metadata": {
    "collapsed": false,
    "pycharm": {
     "name": "#%%\n"
    }
   }
  },
  {
   "cell_type": "code",
   "execution_count": 3,
   "outputs": [
    {
     "name": "stdout",
     "output_type": "stream",
     "text": [
      "['aaq', 'abe', 'abs', 'adt', 'afr', 'aii', 'ain', 'akk', 'akz', 'ale', 'alq', 'amh', 'amj', 'ang', 'apw', 'ara', 'arg', 'arn', 'arq', 'arw', 'ary', 'arz', 'ase', 'ast', 'auc', 'ava', 'ave', 'axm', 'ayl', 'aym', 'aze', 'bak', 'bar', 'bdy', 'bel', 'ben', 'bft', 'bis', 'bod', 'bre', 'bua', 'bul', 'byn', 'cat', 'ccc', 'ceb', 'ces', 'cha', 'chc', 'che', 'chn', 'cho', 'chr', 'chu', 'cic', 'cmn', 'cop', 'cor', 'cre', 'crh', 'csb', 'cym', 'dan', 'del', 'dep', 'deu', 'div', 'dsb', 'dtd', 'dum', 'efi', 'egy', 'ell', 'emn', 'eng', 'enm', 'enn', 'epo', 'ess', 'est', 'ett', 'eus', 'evn', 'ewe', 'fao', 'fas', 'fij', 'fin', 'fon', 'fra', 'frc', 'frk', 'frm', 'fro', 'frp', 'fry', 'fur', 'gae', 'gez', 'gil', 'gla', 'gle', 'glg', 'glv', 'gmh', 'gml', 'gmy', 'goh', 'got', 'grc', 'grn', 'grv', 'gsw', 'gug', 'guj', 'gul', 'gwi', 'hak', 'hat', 'hau', 'haw', 'hbs', 'heb', 'hif', 'hil', 'hin', 'hit', 'hop', 'hsb', 'hun', 'hur', 'hye', 'idb', 'ido', 'ike', 'ikt', 'iku', 'ina', 'ind', 'inz', 'ipk', 'isl', 'ita', 'jam', 'jav', 'jbo', 'jpn', 'kal', 'kan', 'kat', 'kaw', 'kaz', 'kbd', 'khm', 'kin', 'kir', 'kjh', 'kju', 'kky', 'kld', 'kmb', 'kok', 'kon', 'kor', 'kri', 'krl', 'ksd', 'ksh', 'kum', 'kur', 'kzj', 'lad', 'lao', 'lat', 'lav', 'lij', 'lim', 'lin', 'lit', 'lkt', 'lld', 'lmo', 'lng', 'lou', 'ltc', 'ltz', 'lua', 'lug', 'luo', 'lut', 'lzh', 'mah', 'mak', 'mal', 'mar', 'mas', 'mav', 'mbc', 'mfr', 'mga', 'mic', 'min', 'mkd', 'mlg', 'mlt', 'mnc', 'mnk', 'mod', 'moe', 'moh', 'mon', 'mri', 'msa', 'mwl', 'mxi', 'mya', 'myv', 'nah', 'nan', 'nap', 'naq', 'nav', 'nay', 'nci', 'ndo', 'nds', 'nep', 'nld', 'nno', 'nob', 'non', 'nor', 'nov', 'nys', 'obr', 'obt', 'oci', 'oco', 'odt', 'ofs', 'oge', 'oji', 'okm', 'ood', 'orc', 'ori', 'orv', 'osp', 'oss', 'osx', 'ota', 'otk', 'owl', 'p_gem', 'p_gmw', 'p_ine', 'p_sla', 'pal', 'pan', 'pap', 'pau', 'pcd', 'pdt', 'peo', 'phn', 'pim', 'pis', 'pjt', 'pli', 'pml', 'pol', 'por', 'pox', 'ppl', 'prg', 'pro', 'pus', 'quc', 'que', 'qwc', 'rap', 'rhg', 'rme', 'rmf', 'rmq', 'roh', 'rom', 'ron', 'rop', 'rue', 'ruo', 'rup', 'rus', 'ryu', 'san', 'sat', 'scn', 'sco', 'see', 'sei', 'sga', 'shh', 'sin', 'slk', 'slv', 'sme', 'smo', 'sms', 'sna', 'som', 'sot', 'spa', 'sqi', 'srd', 'srn', 'srs', 'stg', 'sth', 'stq', 'sun', 'sux', 'swa', 'swe', 'syc', 'szl', 'tah', 'tam', 'tat', 'tcs', 'tcy', 'tel', 'tet', 'tew', 'tgk', 'tgl', 'tha', 'tir', 'tiv', 'tnq', 'ton', 'tpi', 'tpw', 'tsn', 'tuk', 'tur', 'twf', 'twi', 'txb', 'uig', 'ukr', 'ulk', 'umb', 'umu', 'urd', 'uzb', 'vai', 'vec', 'vep', 'vie', 'vls', 'vma', 'vol', 'wam', 'wit', 'wlm', 'wln', 'wol', 'wrh', 'wym', 'xaa', 'xbm', 'xce', 'xcl', 'xho', 'xmb', 'xng', 'xno', 'xnt', 'xon', 'xpr', 'xtg', 'yid', 'yol', 'yor', 'yua', 'yue', 'yur', 'yxg', 'zai', 'zko', 'zku', 'zsm', 'zul']\n"
     ]
    }
   ],
   "source": [
    "\n",
    "\"\"\"\n",
    "Get list of unique languages in data set.\n",
    "\n",
    "Not super necessary but helpful for understanding the likely subgraph structure. I would guess that the individual\n",
    "languages will be highly connected/clustered. I suspect the boundaries will blur a bit around the proto- and ancient languages, particularly for languages with\n",
    "many ancestors in the data set, e.g., Latin\n",
    "\"\"\"\n",
    "\n",
    "unique_languages = set(cleaned_df[\"source_language\"].unique()).union(set(cleaned_df[\"target_language\"].unique()))\n",
    "print(sorted(unique_languages))\n"
   ],
   "metadata": {
    "collapsed": false,
    "pycharm": {
     "name": "#%%\n"
    }
   }
  },
  {
   "cell_type": "code",
   "execution_count": 4,
   "outputs": [
    {
     "name": "stdout",
     "output_type": "stream",
     "text": [
      "Name: \n",
      "Type: DiGraph\n",
      "Number of nodes: 2743118\n",
      "Number of edges: 2692096\n",
      "Average in degree:   0.9814\n",
      "Average out degree:   0.9814\n"
     ]
    }
   ],
   "source": [
    "\n",
    "\"\"\"\n",
    "Construct networkx graph\n",
    "\"\"\"\n",
    "\n",
    "# start with directed so we can preserve directionality data, retaining the option to convert to undirected later to use networkx undirected algorithms\n",
    "graph = nx.from_pandas_edgelist(\n",
    "    cleaned_df,\n",
    "    edge_attr=[\n",
    "        \"edge_type\",\n",
    "        \"source_language\",\n",
    "        \"source_word\",\n",
    "        \"target_language\",\n",
    "        \"target_word\",\n",
    "    ],\n",
    "    source=\"source_node\",\n",
    "    target=\"target_node\",\n",
    "    create_using=nx.DiGraph,\n",
    ")\n",
    "print(nx.info(graph))\n"
   ],
   "metadata": {
    "collapsed": false,
    "pycharm": {
     "name": "#%%\n"
    }
   }
  },
  {
   "cell_type": "markdown",
   "source": [
    "\n",
    "# What next?\n",
    "\n",
    "Now that we've loaded the data into a graph, it's time to do some actual analysis. But to do so, we need to define the problem more clearly. Otherwise, there is\n",
    "an intractable amount of data for many graph algorithms. Pruning to relevant subgraphs would be desirable as an initial post-processing step.\n",
    "\n",
    "I am primarily interested in English language entries. However, ~~many~~ all of the English words are derived from non-English words. It would be good to prune\n",
    "entries that are not etymological roots of English words.\n",
    "\n",
    "My initial instinct is to trim any descendant nodes of English words that are in other languages. Then, we can run BFS from each English node to gather its\n",
    "ancestors, knowing the descendant nodes have already been trimmed. This could accidentally exclude relevant data if there are derivation paths that jump from\n",
    "English to another language and then back, but that's an interesting question in and of itself and might be worth investigating as preliminary matter before\n",
    "pursuing this approach.\n",
    "\n",
    "However, I suspect the BFS approach may be extremely inefficient and that it will be necessary to reduce the size of the search space to something more\n",
    "tractable.\n",
    "\n",
    "So. What exactly are we looking for?\n",
    "\n",
    "- Nodes with the \"eng:\" prefix\n",
    "- Nodes that are direct and indirect ancestors of the English nodes\n",
    "\n"
   ],
   "metadata": {
    "collapsed": false
   }
  },
  {
   "cell_type": "code",
   "execution_count": 5,
   "outputs": [
    {
     "name": "stdout",
     "output_type": "stream",
     "text": [
      "False\n"
     ]
    }
   ],
   "source": [
    "\"\"\"\n",
    "DAG analysis\n",
    "\n",
    "Check if graph is directed acyclic\n",
    "\"\"\"\n",
    "\n",
    "from networkx.algorithms.dag import is_directed_acyclic_graph\n",
    "is_dag = is_directed_acyclic_graph(graph)\n",
    "print(is_dag)\n"
   ],
   "metadata": {
    "collapsed": false,
    "pycharm": {
     "name": "#%%\n"
    }
   }
  },
  {
   "cell_type": "code",
   "execution_count": 6,
   "outputs": [
    {
     "name": "stdout",
     "output_type": "stream",
     "text": [
      "3305\n"
     ]
    }
   ],
   "source": [
    "\"\"\"\n",
    "DAG analysis\n",
    "\n",
    "I expected that the graph would be acyclic, because logically it doesn't make sense for a word to be an ancestor of a word that is also the first word's ancestor.\n",
    "However, is_directed_acyclic_graph returned false, so I am going to check for cycles and see if there's something in the source data that can be cleaned up to\n",
    "enable DAG analysis\n",
    "\"\"\"\n",
    "from networkx.algorithms.cycles import simple_cycles\n",
    "cycles = list(simple_cycles(graph))\n",
    "cycle_count = len(cycles)\n",
    "print(cycle_count)\n"
   ],
   "metadata": {
    "collapsed": false,
    "pycharm": {
     "name": "#%%\n"
    }
   }
  },
  {
   "cell_type": "code",
   "execution_count": 7,
   "outputs": [
    {
     "name": "stdout",
     "output_type": "stream",
     "text": [
      "True\n"
     ]
    }
   ],
   "source": [
    "\"\"\"\n",
    "DAG analysis\n",
    "\n",
    "So... looks like all the cycles are self-connected single nodes. I'm guessing if I prune those it will be acyclic.\n",
    "\n",
    "Tried this, and still there were some loops left. they were in somewhat obscure languages so I decided to just drop them all.\n",
    "graph.remove_edges_from(nx.selfloop_edges(graph))\n",
    "\n",
    "\"\"\"\n",
    "from networkx.algorithms.dag import is_directed_acyclic_graph\n",
    "from networkx.algorithms.cycles import simple_cycles\n",
    "cycle_nodes = [node for cycle in list(simple_cycles(graph)) for node in cycle]\n",
    "graph.remove_nodes_from(cycle_nodes)\n",
    "is_dag = is_directed_acyclic_graph(graph)\n",
    "print(is_dag)\n"
   ],
   "metadata": {
    "collapsed": false,
    "pycharm": {
     "name": "#%%\n"
    }
   }
  },
  {
   "cell_type": "code",
   "execution_count": 8,
   "outputs": [
    {
     "name": "stdout",
     "output_type": "stream",
     "text": [
      "['peo: 𐏋', 'pal: 𐭱𐭠𐭤', 'fas: شاه', 'fas: چک', 'ara: صکّ', 'lat: scacus', 'fro: eschec', 'eng: check', 'eng: checked', 'eng: unchecked', 'eng: unch', 'eng: unches']\n"
     ]
    }
   ],
   "source": [
    "\"\"\"\n",
    "DAG analysis\n",
    "\n",
    "Ok we have a DAG, time to see what kinds of fun patterns we can find...\n",
    "\n",
    "\"\"\"\n",
    "from networkx.algorithms.dag import dag_longest_path\n",
    "\n",
    "longest_path = dag_longest_path(graph)\n",
    "print(longest_path)\n"
   ],
   "metadata": {
    "collapsed": false,
    "pycharm": {
     "name": "#%%\n"
    }
   }
  },
  {
   "cell_type": "code",
   "execution_count": 9,
   "metadata": {},
   "outputs": [
    {
     "name": "stdout",
     "output_type": "stream",
     "text": [
      "342736\n",
      "96374\n",
      "Name: \n",
      "Type: DiGraph\n",
      "Number of nodes: 912653\n",
      "Number of edges: 715717\n",
      "Average in degree:   0.7842\n",
      "Average out degree:   0.7842\n"
     ]
    }
   ],
   "source": [
    "\"\"\"\n",
    "DAG analysis\n",
    "\n",
    "Create English-related subgraph\n",
    "\n",
    "Let's see if we can exploit the DAG properties to filter to chains with English words only\n",
    "\"\"\"\n",
    "roots = [node for node in nx.nodes(graph) if len(nx.ancestors(graph, node)) == 0]\n",
    "print(len(roots))\n",
    "english_nodes = [nx.descendants(graph, root) for root in roots if list(filter(lambda x: x[0:3] == \"eng\", nx.descendants(graph, root)))]\n",
    "print(len(english_nodes))\n",
    "english_graph = graph.subgraph([node for desc in english_nodes for node in desc])\n",
    "print(nx.info(english_graph))\n"
   ]
  },
  {
   "cell_type": "code",
   "execution_count": 10,
   "outputs": [
    {
     "name": "stdout",
     "output_type": "stream",
     "text": [
      "[('eng: non-', 5748), ('eng: -ly', 5439), ('eng: un-', 4206), ('eng: -like', 2438), ('eng: -er', 2346), ('eng: -less', 1974), ('ita: -mente', 1666), ('eng: -able', 1428), ('eng: time', 1322), ('eng: anti-', 1293), ('eng: -y', 1227), ('eng: poly-', 1004), ('ita: -abile', 880), ('eng: -ic', 812), ('eng: -ed', 754), ('eng: multi-', 715), ('eng: over-', 710), ('spa: -mente', 681), ('fra: -ure', 665), ('eng: -ian', 625), ('eng: -ish', 588), ('eng: -ally', 520), ('eng: -ize', 500), ('eng: dog', 496), ('eng: disease', 493), ('deu: Stein', 485), ('eng: inter-', 461), ('fra: -er', 451), ('eng: hyper-', 445), ('eng: bird', 444), ('fra: -ique', 442), ('ita: -oso', 441), ('eng: be-', 428), ('eng: in-', 426), ('fra: -age', 424), ('ita: -tura', 419), ('eng: micro-', 401), ('eng: de-', 397), ('eng: post-', 395), ('eng: -an', 392), ('eng: -ing', 383), ('eng: -ity', 383), ('eng: -ship', 380), ('gle: -acht', 376), ('ita: -mento', 356), ('eng: Chinese', 346), ('eng: semi-', 327), ('ita: -ere', 326), ('eng: back', 326), ('eng: bread', 315), ('eng: a-', 305), ('eng: -istic', 298), ('eng: potato', 297), ('eng: -ment', 296), ('eng: seal', 284), ('eng: bi-', 281), ('glv: co-', 278), ('fra: -ité', 276), ('eng: green', 270), ('eng: leaf', 263), ('eng: snow', 256), ('eng: bio-', 254), ('ita: -ista', 251), ('eng: auto-', 250), ('epo: dek', 247), ('fra: in-', 247), ('eng: work', 246), ('eng: book', 242), ('eng: out-', 240), ('eng: sulfo-', 237), ('eng: -ferous', 233), ('eng: man', 231), ('eng: vine', 230), ('eng: head', 229), ('deu: -lich', 225), ('eng: pigeon', 224), ('eng: nano-', 222), ('fra: dé-', 219), ('eng: wax', 218), ('eng: radio-', 217), ('eng: neuro-', 217), ('eng: apple', 216), ('eng: wort', 212), ('ita: anti-', 212), ('lat: colligo', 212), ('eng: -wise', 208), ('eng: blue', 207), ('eng: -phyte', 205), ('eng: quasi-', 203), ('lat: praedico', 203), ('eng: ball', 201), ('eng: fish', 198), ('lat: colo', 197), ('fra: -iste', 195), ('lat: deligo', 195), ('lat: consterno', 194), ('eng: red', 194), ('lat: fundo', 193), ('lat: adgero', 192)]\n"
     ]
    }
   ],
   "source": [
    "\"\"\"\n",
    "English graph analysis\n",
    "\n",
    "Inspect highest degree nodes\n",
    "\"\"\"\n",
    "nodes_by_degree = sorted(english_graph.degree, key=lambda x: x[1], reverse=True)\n",
    "print(nodes_by_degree[0:99])\n"
   ],
   "metadata": {
    "collapsed": false,
    "pycharm": {
     "name": "#%%\n"
    }
   }
  },
  {
   "cell_type": "code",
   "execution_count": 11,
   "outputs": [
    {
     "name": "stdout",
     "output_type": "stream",
     "text": [
      "Name: \n",
      "Type: Graph\n",
      "Number of nodes: 2739237\n",
      "Number of edges: 2635474\n",
      "Average degree:   1.9242\n"
     ]
    }
   ],
   "source": [
    "\"\"\"\n",
    "Undirected graph analysis\n",
    "\n",
    "Construct undirected graph\n",
    "\"\"\"\n",
    "\n",
    "# convert to undirected so we can apply undirected algorithms\n",
    "undirected_graph = graph.to_undirected()\n",
    "print(nx.info(undirected_graph))\n"
   ],
   "metadata": {
    "collapsed": false,
    "pycharm": {
     "name": "#%%\n"
    }
   }
  },
  {
   "cell_type": "code",
   "execution_count": 12,
   "outputs": [
    {
     "name": "stdout",
     "output_type": "stream",
     "text": [
      "253453\n"
     ]
    }
   ],
   "source": [
    "\"\"\"\n",
    "Undirected graph analysis\n",
    "\n",
    "Check for connected components\n",
    "\"\"\"\n",
    "\n",
    "from networkx.algorithms.components import connected_components\n",
    "\n",
    "# check for connected components. may be a way to prune subgraphs that do not relate to English etymology\n",
    "conn_components = list(connected_components(undirected_graph))\n",
    "connected_component_count = len(conn_components)\n",
    "print(connected_component_count)\n"
   ],
   "metadata": {
    "collapsed": false,
    "pycharm": {
     "name": "#%%\n"
    }
   }
  },
  {
   "cell_type": "code",
   "execution_count": 13,
   "outputs": [
    {
     "name": "stdout",
     "output_type": "stream",
     "text": [
      "Name: \n",
      "Type: DiGraph\n",
      "Number of nodes: 433240\n",
      "Number of edges: 425233\n",
      "Average in degree:   0.9815\n",
      "Average out degree:   0.9815\n"
     ]
    }
   ],
   "source": [
    "\"\"\"\n",
    "Filter to English nodes and their BFS trees\n",
    "\n",
    "\"\"\"\n",
    "\n",
    "# grab the nodes that have the eng tag, then build the connected graph from those\n",
    "bfs_english_nodes = [n for n in graph.nodes() if n[0:3] == 'eng']\n",
    "bfs_nodes_to_add = []\n",
    "# add nodes inside loop to avoid having to flatten later\n",
    "[bfs_nodes_to_add.extend(bfs_tree(graph, source=node)) for node in bfs_english_nodes]\n",
    "\n",
    "bfs_english_graph = graph.subgraph(bfs_nodes_to_add)\n",
    "print(nx.info(bfs_english_graph))\n"
   ],
   "metadata": {
    "collapsed": false,
    "pycharm": {
     "name": "#%%\n"
    }
   }
  },
  {
   "cell_type": "code",
   "execution_count": 14,
   "outputs": [
    {
     "name": "stdout",
     "output_type": "stream",
     "text": [
      "[('eng: non-', 5746), ('eng: -ly', 5439), ('eng: un-', 4203), ('eng: -ness', 3296), ('eng: -like', 2438), ('eng: -er', 2346), ('eng: -less', 1973), ('eng: -able', 1428), ('eng: time', 1322), ('eng: anti-', 1293), ('eng: -y', 1227), ('eng: poly-', 1004), ('eng: re-', 914), ('eng: -ism', 876), ('eng: -ic', 811), ('eng: -ed', 754), ('eng: -ist', 734), ('eng: multi-', 715), ('eng: super-', 711), ('eng: over-', 709), ('eng: pre-', 706), ('eng: -al', 685), ('eng: sub-', 634), ('eng: -ian', 625), ('eng: -ish', 588), ('eng: -ally', 520), ('eng: -ize', 499), ('eng: dog', 495), ('eng: disease', 492), ('eng: inter-', 460), ('eng: -ite', 449), ('eng: hyper-', 445), ('eng: bird', 443), ('eng: be-', 428), ('eng: in-', 425), ('eng: -eth', 423), ('eng: -ful', 422), ('eng: -eous', 418), ('eng: micro-', 401), ('eng: de-', 397), ('eng: post-', 395), ('eng: -an', 392), ('eng: -ing', 382), ('eng: -ity', 382), ('eng: -ship', 380), ('eng: -est', 372), ('eng: under-', 371), ('eng: -logy', 360), ('eng: Chinese', 346), ('eng: photo-', 345), ('eng: sugar', 334), ('eng: semi-', 327), ('eng: back', 325), ('eng: mis-', 320), ('eng: co-', 315), ('eng: bread', 315), ('eng: cyber-', 314), ('eng: a-', 303), ('eng: dis-', 300), ('eng: -istic', 299), ('eng: potato', 297), ('eng: -ment', 296), ('eng: seal', 283), ('eng: bi-', 281), ('eng: electro-', 270), ('eng: green', 269), ('eng: leaf', 262), ('eng: -ation', 261), ('eng: snow', 256), ('eng: bio-', 254), ('eng: auto-', 249), ('eng: work', 246), ('eng: book', 241), ('eng: out-', 240), ('eng: sulfo-', 238), ('eng: iron', 235), ('eng: -ferous', 233), ('eng: pseudo-', 230), ('eng: head', 229), ('eng: man', 229), ('eng: vine', 229), ('eng: gold', 228), ('eng: pigeon', 223), ('eng: nano-', 221), ('eng: wax', 219), ('eng: radio-', 217), ('eng: neuro-', 217), ('eng: counter-', 215), ('eng: apple', 215), ('eng: wort', 212), ('eng: self-', 212), ('eng: tri-', 208), ('eng: -wise', 208), ('eng: blue', 207), ('eng: -phyte', 204), ('eng: quasi-', 203), ('eng: ball', 201), ('eng: -ee', 200), ('eng: fish', 198)]\n"
     ]
    }
   ],
   "source": [
    "\"\"\"\n",
    "Check most connected nodes to see if they're super cool or whatever\n",
    "\n",
    "\"\"\"\n",
    "\n",
    "bfs_nodes_by_degree = sorted(bfs_english_graph.degree, key=lambda x: x[1], reverse=True)\n",
    "print(bfs_nodes_by_degree[0:99])"
   ],
   "metadata": {
    "collapsed": false,
    "pycharm": {
     "name": "#%%\n"
    }
   }
  },
  {
   "cell_type": "code",
   "execution_count": 19,
   "outputs": [
    {
     "data": {
      "text/plain": "<Figure size 576x576 with 3 Axes>",
      "image/png": "[encoded data removed]"
     },
     "metadata": {
      "needs_background": "light"
     },
     "output_type": "display_data"
    }
   ],
   "source": [
    "\"\"\"\n",
    "Let's try to plot something, because why not?\n",
    "\n",
    "\n",
    "import matplotlib.pyplot as plt\n",
    "\n",
    "highly_connected_node = nodes_by_degree[-1]\n",
    "# nodes_in_sub = bfs_tree(graph, source=\"eng: leaf\")\n",
    "nodes_in_sub = nx.descendants(graph, \"eng: leaf\")\n",
    "graph_to_plot = graph.subgraph(nodes_in_sub)\n",
    "\n",
    "nx.draw(graph_to_plot, with_labels=True)\n",
    "\n",
    "nx.draw_shell(graph_to_plot)\n",
    "plt.show()\n",
    "\n",
    "Well that looks like my 3rd grade art work...\n",
    "\n",
    "Let's try with edges and such\n",
    "\n",
    "nx.draw_networkx(graph_to_plot, arrows=True, with_labels=True)\n",
    "nx.draw_shell(graph_to_plot)\n",
    "plt.show()\n",
    "\n",
    "Ok time to be lazy and ~~steal~~ borrow from the networkx example drawings\n",
    "\n",
    "Need to keep it to a smaller graph because it just plots as giant unreadable mess with many nodes\n",
    "\n",
    "\n",
    "\"\"\"\n",
    "\n",
    "import matplotlib.pyplot as plt\n",
    "import numpy as np\n",
    "\n",
    "undirected_graph_to_plot = graph.subgraph(nx.descendants(graph, \"eng: leaf\")).to_undirected()\n",
    "\n",
    "degree_sequence = sorted([d for n, d in undirected_graph_to_plot.degree()], reverse=True)\n",
    "dmax = max(degree_sequence)\n",
    "\n",
    "fig = plt.figure(\"Degree of node 'eng: leaf' descendants\", figsize=(8, 8))\n",
    "axgrid = fig.add_gridspec(5, 4)\n",
    "\n",
    "ax0 = fig.add_subplot(axgrid[0:3, :])\n",
    "Gcc = undirected_graph_to_plot.subgraph(sorted(nx.connected_components(undirected_graph_to_plot), key=len, reverse=True)[0])\n",
    "pos = nx.spring_layout(Gcc, seed=10396953)\n",
    "nx.draw_networkx_nodes(Gcc, pos, ax=ax0, node_size=20)\n",
    "nx.draw_networkx_edges(Gcc, pos, ax=ax0, alpha=0.4)\n",
    "ax0.set_title(\"Connected components of 'eng: leaf' descendants\")\n",
    "ax0.set_axis_off()\n",
    "\n",
    "ax1 = fig.add_subplot(axgrid[3:, :2])\n",
    "ax1.plot(degree_sequence, \"b-\", marker=\"o\")\n",
    "ax1.set_title(\"Degree Rank Plot\")\n",
    "ax1.set_ylabel(\"Degree\")\n",
    "ax1.set_xlabel(\"Rank\")\n",
    "\n",
    "ax2 = fig.add_subplot(axgrid[3:, 2:])\n",
    "ax2.bar(*np.unique(degree_sequence, return_counts=True))\n",
    "ax2.set_title(\"Degree histogram\")\n",
    "ax2.set_xlabel(\"Degree\")\n",
    "ax2.set_ylabel(\"# of Nodes\")\n",
    "\n",
    "fig.tight_layout()\n",
    "plt.show()"
   ],
   "metadata": {
    "collapsed": false,
    "pycharm": {
     "name": "#%%\n"
    }
   }
  }
 ],
 "metadata": {
  "language_info": {
   "codemirror_mode": {
    "name": "ipython",
    "version": 2
   },
   "file_extension": ".py",
   "mimetype": "text/x-python",
   "name": "python",
   "nbconvert_exporter": "python",
   "pygments_lexer": "ipython2",
   "version": "2.7.6"
  },
  "kernelspec": {
   "name": "python3",
   "language": "python",
   "display_name": "Python 3"
  }
 },
 "nbformat": 4,
 "nbformat_minor": 0
}