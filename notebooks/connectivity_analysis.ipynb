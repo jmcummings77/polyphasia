{
 "cells": [
  {
   "cell_type": "code",
   "execution_count": null,
   "metadata": {
    "collapsed": true,
    "pycharm": {
     "is_executing": true
    }
   },
   "outputs": [],
   "source": [
    "from pathlib import Path\n",
    "\n",
    "import networkx as nx\n",
    "import pandas as pd\n",
    "\n",
    "from networkx.algorithms.traversal import bfs_tree\n",
    "\n",
    "\"\"\"\n",
    "Load data from file\n",
    "\"\"\"\n",
    "\n",
    "# set up some paths for ins and outs\n",
    "base_directory = Path.cwd().parent.absolute()\n",
    "source_data_path = base_directory / \"data\" / \"raw\" / \"etymologies.tsv\"\n",
    "processed_directory = base_directory / \"data\" / \"processed\"\n",
    "output_graph_yaml_file = processed_directory / \"graph_output.yaml\"\n",
    "output_graph_dot_file = processed_directory / \"graph_output.dot\"\n",
    "output_graph_png = processed_directory / \"graph_output.png\"\n",
    "\n",
    "# load from CSV\n",
    "cleaned_df = pd.read_csv(\n",
    "    source_data_path, sep=\"\\t\", names=[\"source_node\", \"edge_type\", \"target_node\"]\n",
    ")\n"
   ]
  },
  {
   "cell_type": "markdown",
   "source": [
    "\n",
    "# Cleaning notes\n",
    "\n",
    "## Relationship types found in source data\n",
    "\n",
    "Relationships are recorded bidirectionally. So a root word will link to its derivatives, and each derivative will link back to the root. To simplify the graph,\n",
    "I will drop edges that point from derivatives to roots, since that information is already encoded in the root-to-leaf edge and networkx can handle bidirectional\n",
    "traversal without requiring multiple edges to link the same pair of nodes.\n",
    "\n",
    "Below are the types of relationships extracted from the data, with comments indicating their directionality.\n",
    "\n",
    "\n",
    "<- A is the source of B\n",
    "\n",
    "-> B is the source of A\n",
    "\n",
    "\n",
    "- \"rel:etymology\"               ->\n",
    "- \"rel:etymological_origin_of\"  <-\n",
    "- \"rel:is_derived_from\"         ->\n",
    "- \"rel:has_derived_form\"        <-\n",
    "- \"rel:etymologically_related\"  <->\n",
    "- \"rel:variant:orthography\"     <->\n",
    "\n",
    "source data also includes a handful of malformed values, which should be dropped or replaced\n",
    "- \"rel:etymologically\" -> \"rel:etymologically_related\"\n",
    "- \"rel:derived\" -> \"rel:is_derived_from\"\n",
    "\n"
   ],
   "metadata": {
    "collapsed": false
   }
  },
  {
   "cell_type": "code",
   "execution_count": null,
   "outputs": [],
   "source": [
    "\n",
    "\"\"\"\n",
    "Clean data\n",
    "\"\"\"\n",
    "\n",
    "# filter out bidirectional relationships and select one directionality to normalize the graph\n",
    "# I would normally clean to fix a handful of malformed tags as below but we are dropping those edge types anyway\n",
    "# so instead we will stick to the edge types that point from root words to derived words\n",
    "root_first_rel_types = [\"rel:etymological_origin_of\", \"rel:has_derived_form\"]\n",
    "cleaned_df = cleaned_df.loc[(cleaned_df[\"edge_type\"].isin(root_first_rel_types))]\n",
    "cleaned_df[[\"source_language\", \"source_word\"]] = cleaned_df.source_node.str.split(\n",
    "    \": \", expand=True\n",
    ")\n",
    "\n",
    "# there are a handful of nodes that include strange characters or a :Category: tag that introduces a third\n",
    "# column for no reason. This data is uninteresting so we can just ignore it and no include it in the graph when we construct it\n",
    "cleaned_df[[\"target_language\", \"target_word\", \"crud\"]] =  cleaned_df.target_node.str.split(\": \", expand=True)\n"
   ],
   "metadata": {
    "collapsed": false,
    "pycharm": {
     "name": "#%%\n",
     "is_executing": true
    }
   }
  },
  {
   "cell_type": "code",
   "execution_count": null,
   "outputs": [],
   "source": [
    "\n",
    "\"\"\"\n",
    "Get list of unique languages in data set.\n",
    "\n",
    "Not super necessary but helpful for understanding the likely subgraph structure. I would guess that the individual\n",
    "languages will be highly connected/clustered. I suspect the boundaries will blur a bit around the proto- and ancient languages, particularly for languages with\n",
    "many ancestors in the data set, e.g., Latin\n",
    "\"\"\"\n",
    "\n",
    "unique_languages = set(cleaned_df[\"source_language\"].unique()).union(set(cleaned_df[\"target_language\"].unique()))\n",
    "print(sorted(unique_languages))\n"
   ],
   "metadata": {
    "collapsed": false,
    "pycharm": {
     "name": "#%%\n",
     "is_executing": true
    }
   }
  },
  {
   "cell_type": "code",
   "execution_count": null,
   "outputs": [],
   "source": [
    "\n",
    "\"\"\"\n",
    "Construct networkx graph\n",
    "\"\"\"\n",
    "\n",
    "# start with directed so we can preserve directionality data, retaining the option to convert to undirected later to use networkx undirected algorithms\n",
    "graph = nx.from_pandas_edgelist(\n",
    "    cleaned_df,\n",
    "    edge_attr=[\n",
    "        \"edge_type\",\n",
    "        \"source_language\",\n",
    "        \"source_word\",\n",
    "        \"target_language\",\n",
    "        \"target_word\",\n",
    "    ],\n",
    "    source=\"source_node\",\n",
    "    target=\"target_node\",\n",
    "    create_using=nx.DiGraph,\n",
    ")\n",
    "print(nx.info(graph))\n",
    "\n"
   ],
   "metadata": {
    "collapsed": false,
    "pycharm": {
     "name": "#%%\n",
     "is_executing": true
    }
   }
  },
  {
   "cell_type": "code",
   "execution_count": null,
   "outputs": [],
   "source": [
    "\"\"\"\n",
    "Undirected graph analysis\n",
    "\n",
    "Construct undirected graph\n",
    "\"\"\"\n",
    "\n",
    "# convert to undirected so we can apply undirected algorithms\n",
    "undirected_graph = graph.to_undirected()\n",
    "print(nx.info(undirected_graph))\n"
   ],
   "metadata": {
    "collapsed": false,
    "pycharm": {
     "name": "#%%\n",
     "is_executing": true
    }
   }
  },
  {
   "cell_type": "code",
   "execution_count": null,
   "outputs": [],
   "source": [
    "\"\"\"\n",
    "Undirected graph analysis\n",
    "\n",
    "Check for connected components\n",
    "\"\"\"\n",
    "\n",
    "from networkx.algorithms.components import connected_components\n",
    "\n",
    "# check for connected components. may be a way to prune subgraphs that do not relate to English etymology\n",
    "conn_components = list(connected_components(undirected_graph))\n",
    "connected_component_count = len(conn_components)\n",
    "print(connected_component_count)\n"
   ],
   "metadata": {
    "collapsed": false,
    "pycharm": {
     "name": "#%%\n",
     "is_executing": true
    }
   }
  },
  {
   "cell_type": "code",
   "execution_count": null,
   "outputs": [],
   "source": [
    "\"\"\"\n",
    "Filter to English nodes and their BFS trees\n",
    "\n",
    "\n",
    "Interestingly, these results do not seem to match what was produced by the DAG root approach above.\n",
    "\n",
    "\n",
    "Type: DiGraph\n",
    "Number of nodes: 912653\n",
    "Number of edges: 715717\n",
    "Average in degree:   0.7842\n",
    "Average out degree:   0.7842\n",
    "\n",
    "Type: DiGraph\n",
    "Number of nodes: 433240\n",
    "Number of edges: 425233\n",
    "Average in degree:   0.9815\n",
    "Average out degree:   0.9815\n",
    "\n",
    "\n",
    "\n",
    "\"\"\"\n",
    "\n",
    "# grab the nodes that have the eng tag, then build the connected graph from those\n",
    "bfs_english_nodes = [n for n in graph.nodes() if n[0:3] == 'eng']\n",
    "bfs_nodes_to_add = []\n",
    "# add nodes inside loop to avoid having to flatten later\n",
    "[bfs_nodes_to_add.extend(bfs_tree(graph, source=node)) for node in bfs_english_nodes]\n",
    "\n",
    "bfs_english_graph = graph.subgraph(bfs_nodes_to_add)\n",
    "print(nx.info(bfs_english_graph))\n"
   ],
   "metadata": {
    "collapsed": false,
    "pycharm": {
     "name": "#%%\n",
     "is_executing": true
    }
   }
  },
  {
   "cell_type": "code",
   "execution_count": null,
   "outputs": [],
   "source": [
    "\"\"\"\n",
    "Check most connected nodes\n",
    "\n",
    "So... this does not match the DAG results, but in an intriguing way. These are exclusively English words, whereas the DAG roots included a mix of other languages as well.\n",
    "\n",
    "Some nodes are the same (e.g., \"eng: non-\"). But the degrees are slightly different. 5746 here versus 5748 above for \"non-\", for example.\n",
    "\n",
    "I wonder why this approach is less inclusive than the above...\n",
    "\n",
    "\"\"\"\n",
    "\n",
    "bfs_nodes_by_degree = sorted(bfs_english_graph.degree, key=lambda x: x[1], reverse=True)\n",
    "print(bfs_nodes_by_degree[0:99])"
   ],
   "metadata": {
    "collapsed": false,
    "pycharm": {
     "name": "#%%\n",
     "is_executing": true
    }
   }
  },
  {
   "cell_type": "code",
   "execution_count": null,
   "outputs": [],
   "source": [
    "\"\"\"\n",
    "Let's try to plot something, because why not?\n",
    "\n",
    "\n",
    "import matplotlib.pyplot as plt\n",
    "\n",
    "highly_connected_node = nodes_by_degree[-1]\n",
    "# nodes_in_sub = bfs_tree(graph, source=\"eng: leaf\")\n",
    "nodes_in_sub = nx.descendants(graph, \"eng: leaf\")\n",
    "graph_to_plot = graph.subgraph(nodes_in_sub)\n",
    "\n",
    "nx.draw(graph_to_plot, with_labels=True)\n",
    "\n",
    "nx.draw_shell(graph_to_plot)\n",
    "plt.show()\n",
    "\n",
    "Well that looks like my 3rd grade art work...\n",
    "\n",
    "Let's try with edges and such\n",
    "\n",
    "nx.draw_networkx(graph_to_plot, arrows=True, with_labels=True)\n",
    "nx.draw_shell(graph_to_plot)\n",
    "plt.show()\n",
    "\n",
    "Ok time to be lazy and ~~steal~~ borrow from the networkx example drawings\n",
    "\n",
    "Need to keep it to a smaller graph because it just plots as giant unreadable mess with many nodes\n",
    "\n",
    "\n",
    "\"\"\"\n",
    "\n",
    "import matplotlib.pyplot as plt\n",
    "import numpy as np\n",
    "\n",
    "undirected_graph_to_plot = graph.subgraph(nx.descendants(graph, \"eng: leaf\")).to_undirected()\n",
    "\n",
    "degree_sequence = sorted([d for n, d in undirected_graph_to_plot.degree()], reverse=True)\n",
    "dmax = max(degree_sequence)\n",
    "\n",
    "fig = plt.figure(\"Degree of node 'eng: leaf' descendants\", figsize=(8, 8))\n",
    "axgrid = fig.add_gridspec(5, 4)\n",
    "\n",
    "ax0 = fig.add_subplot(axgrid[0:3, :])\n",
    "Gcc = undirected_graph_to_plot.subgraph(sorted(nx.connected_components(undirected_graph_to_plot), key=len, reverse=True)[0])\n",
    "pos = nx.spring_layout(Gcc, seed=10396953)\n",
    "nx.draw_networkx_nodes(Gcc, pos, ax=ax0, node_size=20)\n",
    "nx.draw_networkx_edges(Gcc, pos, ax=ax0, alpha=0.4)\n",
    "ax0.set_title(\"Connected components of 'eng: leaf' descendants\")\n",
    "ax0.set_axis_off()\n",
    "\n",
    "ax1 = fig.add_subplot(axgrid[3:, :2])\n",
    "ax1.plot(degree_sequence, \"b-\", marker=\"o\")\n",
    "ax1.set_title(\"Degree Rank Plot\")\n",
    "ax1.set_ylabel(\"Degree\")\n",
    "ax1.set_xlabel(\"Rank\")\n",
    "\n",
    "ax2 = fig.add_subplot(axgrid[3:, 2:])\n",
    "ax2.bar(*np.unique(degree_sequence, return_counts=True))\n",
    "ax2.set_title(\"Degree histogram\")\n",
    "ax2.set_xlabel(\"Degree\")\n",
    "ax2.set_ylabel(\"# of Nodes\")\n",
    "\n",
    "fig.tight_layout()\n",
    "plt.show()"
   ],
   "metadata": {
    "collapsed": false,
    "pycharm": {
     "name": "#%%\n",
     "is_executing": true
    }
   }
  },
  {
   "cell_type": "code",
   "execution_count": null,
   "outputs": [],
   "source": [
    "\"\"\"\n",
    "Maybe let's try a few ego graphs to see if that can highlight why the two approaches are different\n",
    "\"\"\"\n",
    "bfs_ego = nx.ego_graph(bfs_english_graph, bfs_nodes_by_degree[0][0])\n",
    "dag_ego = nx.ego_graph(english_graph, nodes_by_degree[0][0])\n",
    "\n",
    "# Draw graph\n",
    "pos = nx.spring_layout(bfs_ego, seed=20532)  # Seed layout for reproducibility\n",
    "nx.draw(bfs_ego, pos, node_color=\"b\", node_size=50, with_labels=True)\n",
    "\n",
    "# Draw ego as large and red\n",
    "options = {\"node_size\": 300, \"node_color\": \"r\"}\n",
    "nx.draw_networkx_nodes(bfs_ego, pos, nodelist=[bfs_nodes_by_degree[0][0]], **options)\n",
    "plt.show()"
   ],
   "metadata": {
    "collapsed": false,
    "pycharm": {
     "name": "#%%\n",
     "is_executing": true
    }
   }
  }
 ],
 "metadata": {
  "language_info": {
   "codemirror_mode": {
    "name": "ipython",
    "version": 2
   },
   "file_extension": ".py",
   "mimetype": "text/x-python",
   "name": "python",
   "nbconvert_exporter": "python",
   "pygments_lexer": "ipython2",
   "version": "2.7.6"
  },
  "kernelspec": {
   "name": "python3",
   "language": "python",
   "display_name": "Python 3"
  }
 },
 "nbformat": 4,
 "nbformat_minor": 0
}